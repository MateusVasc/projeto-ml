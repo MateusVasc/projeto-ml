{
 "cells": [
  {
   "cell_type": "code",
   "execution_count": 1,
   "metadata": {},
   "outputs": [],
   "source": [
    "import pandas as pd\n",
    "\n",
    "pd.set_option(\"display.max_columns\", None)"
   ]
  },
  {
   "cell_type": "code",
   "execution_count": 2,
   "metadata": {},
   "outputs": [],
   "source": [
    "air_quality_dataset = \"data/air_quality_dataset_treated.parquet\"\n",
    "\n",
    "air_df = pd.read_parquet(air_quality_dataset)"
   ]
  },
  {
   "cell_type": "code",
   "execution_count": 3,
   "metadata": {},
   "outputs": [
    {
     "data": {
      "text/plain": [
       "sitename                    0\n",
       "aqi                         0\n",
       "status                      0\n",
       "so2                         0\n",
       "co                          0\n",
       "o3                          0\n",
       "o3_8hr                      0\n",
       "pm10                        0\n",
       "pm2.5                       0\n",
       "no2                         0\n",
       "nox                         0\n",
       "no                          0\n",
       "windspeed                   0\n",
       "winddirec                   0\n",
       "co_8hr                      0\n",
       "pm2.5_avg                   0\n",
       "pm10_avg                    0\n",
       "so2_avg                     0\n",
       "longitude                   0\n",
       "latitude                    0\n",
       "year                        0\n",
       "month                       0\n",
       "day                         0\n",
       "hour                        0\n",
       "minute                      0\n",
       "day_of_week                 0\n",
       "is_weekend                  0\n",
       "county_Changhua County      0\n",
       "county_Chiayi City          0\n",
       "county_Chiayi County        0\n",
       "county_Hsinchu City         0\n",
       "county_Hsinchu County       0\n",
       "county_Hualien County       0\n",
       "county_Kaohsiung City       0\n",
       "county_Keelung City         0\n",
       "county_Kinmen County        0\n",
       "county_Lienchiang County    0\n",
       "county_Miaoli County        0\n",
       "county_Nantou County        0\n",
       "county_New Taipei City      0\n",
       "county_Penghu County        0\n",
       "county_Pingtung County      0\n",
       "county_Taichung City        0\n",
       "county_Tainan City          0\n",
       "county_Taipei City          0\n",
       "county_Taitung County       0\n",
       "county_Taoyuan City         0\n",
       "county_Yilan County         0\n",
       "county_Yunlin County        0\n",
       "dtype: int64"
      ]
     },
     "execution_count": 3,
     "metadata": {},
     "output_type": "execute_result"
    }
   ],
   "source": [
    "air_df.isnull().sum()"
   ]
  },
  {
   "cell_type": "code",
   "execution_count": null,
   "metadata": {},
   "outputs": [],
   "source": [
    "from sklearn.model_selection import train_test_split\n",
    "\n",
    "target_column = 'status'\n",
    "\n",
    "sample_fraction = 0.05\n",
    "\n",
    "df_sample, _ = train_test_split(\n",
    "    air_df, \n",
    "    test_size=(1 - sample_fraction), \n",
    "    stratify=air_df[target_column], \n",
    "    random_state=42\n",
    ")\n"
   ]
  },
  {
   "cell_type": "code",
   "execution_count": 5,
   "metadata": {},
   "outputs": [
    {
     "name": "stdout",
     "output_type": "stream",
     "text": [
      "status\n",
      "0    125468\n",
      "2     86349\n",
      "4     15861\n",
      "3      2388\n",
      "5         7\n",
      "1         2\n",
      "Name: count, dtype: int64\n",
      "status\n",
      "0    2509369\n",
      "2    1726983\n",
      "4     317214\n",
      "3      47754\n",
      "5        148\n",
      "1         37\n",
      "Name: count, dtype: int64\n"
     ]
    }
   ],
   "source": [
    "print(df_sample[target_column].value_counts())\n",
    "print(air_df[target_column].value_counts())"
   ]
  },
  {
   "cell_type": "code",
   "execution_count": null,
   "metadata": {},
   "outputs": [],
   "source": []
  }
 ],
 "metadata": {
  "kernelspec": {
   "display_name": "ml-project",
   "language": "python",
   "name": "python3"
  },
  "language_info": {
   "codemirror_mode": {
    "name": "ipython",
    "version": 3
   },
   "file_extension": ".py",
   "mimetype": "text/x-python",
   "name": "python",
   "nbconvert_exporter": "python",
   "pygments_lexer": "ipython3",
   "version": "3.12.5"
  }
 },
 "nbformat": 4,
 "nbformat_minor": 2
}
