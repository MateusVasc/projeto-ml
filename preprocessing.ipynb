{
 "cells": [
  {
   "cell_type": "markdown",
   "metadata": {},
   "source": [
    "## Problemas\n",
    "\n",
    "- Linhas nulas na coluna targuet status (142718) -> *Resolvido*\n",
    "- Coluna unit totalmente nula -> *Resolvido*\n",
    "- Várias colunas com tipos misturados -> *Resolvido*\n",
    "- Transformar a coluna date de object pata data de verdade -> *Resolvido*\n",
    "- Agrupar a coluna date de alguma maneira e fazer o casting dos valores para data (dias/horas/meses/anos)  -> *Resolvido*\n",
    "- Coluna inútil siteid -> *Resolvido*\n",
    "- Verificar do que se trata a coluna pollutant e sua importância -> *Resolvido*\n",
    "- Coluna pollutant com 55% de valores nulos -> *Resolvido* \n",
    "- Várias outras colunas com valores nulos (abaixo de 31%)\n",
    "- Popular colunas de latitude e longitude com os dados de county\n",
    "- Fazer encoding das colunas sitename, county e pollutant\n",
    "- Testar one_hot_encoding e target_encoding\n",
    "\n",
    "## Tasks\n",
    "\n",
    "- Tratar colunas com tipos misturados ---------------------> *Feito* (preprocess_to_parquet.ipynb file)\n",
    "- Tratar tipo da coluna date ------------------------------> *Feito*\n",
    "- Tratar aglomeração da coluna date -----------------------> *Feito*\n",
    "- Dropar as linhas que tem o target (coluna status) nulo --> *Feito*\n",
    "- Dropar as coluna unit e siteid (inúteis) ----------------> *Feito*\n",
    "- Verificação e tratamento da coluna pollutant ------------> *Feito*"
   ]
  },
  {
   "cell_type": "code",
   "execution_count": 37,
   "metadata": {},
   "outputs": [],
   "source": [
    "import pandas as pd\n",
    "\n",
    "\n",
    "pd.set_option(\"display.max_columns\", None)"
   ]
  },
  {
   "cell_type": "code",
   "execution_count": 38,
   "metadata": {},
   "outputs": [],
   "source": [
    "air_quality_dataset = \"data/air_quality_dataset.parquet\"\n",
    "\n",
    "air_df = pd.read_parquet(air_quality_dataset)"
   ]
  },
  {
   "cell_type": "code",
   "execution_count": 39,
   "metadata": {},
   "outputs": [
    {
     "data": {
      "text/html": [
       "<div>\n",
       "<style scoped>\n",
       "    .dataframe tbody tr th:only-of-type {\n",
       "        vertical-align: middle;\n",
       "    }\n",
       "\n",
       "    .dataframe tbody tr th {\n",
       "        vertical-align: top;\n",
       "    }\n",
       "\n",
       "    .dataframe thead th {\n",
       "        text-align: right;\n",
       "    }\n",
       "</style>\n",
       "<table border=\"1\" class=\"dataframe\">\n",
       "  <thead>\n",
       "    <tr style=\"text-align: right;\">\n",
       "      <th></th>\n",
       "      <th>date</th>\n",
       "      <th>sitename</th>\n",
       "      <th>county</th>\n",
       "      <th>aqi</th>\n",
       "      <th>pollutant</th>\n",
       "      <th>status</th>\n",
       "      <th>so2</th>\n",
       "      <th>co</th>\n",
       "      <th>o3</th>\n",
       "      <th>o3_8hr</th>\n",
       "      <th>pm10</th>\n",
       "      <th>pm2.5</th>\n",
       "      <th>no2</th>\n",
       "      <th>nox</th>\n",
       "      <th>no</th>\n",
       "      <th>windspeed</th>\n",
       "      <th>winddirec</th>\n",
       "      <th>unit</th>\n",
       "      <th>co_8hr</th>\n",
       "      <th>pm2.5_avg</th>\n",
       "      <th>pm10_avg</th>\n",
       "      <th>so2_avg</th>\n",
       "      <th>longitude</th>\n",
       "      <th>latitude</th>\n",
       "      <th>siteid</th>\n",
       "    </tr>\n",
       "  </thead>\n",
       "  <tbody>\n",
       "    <tr>\n",
       "      <th>0</th>\n",
       "      <td>2024-08-31 23:00</td>\n",
       "      <td>Hukou</td>\n",
       "      <td>Hsinchu County</td>\n",
       "      <td>62.0</td>\n",
       "      <td>PM2.5</td>\n",
       "      <td>Moderate</td>\n",
       "      <td>0.9</td>\n",
       "      <td>0.17</td>\n",
       "      <td>35.0</td>\n",
       "      <td>40.2</td>\n",
       "      <td>18.0</td>\n",
       "      <td>17.0</td>\n",
       "      <td>2.3</td>\n",
       "      <td>2.6</td>\n",
       "      <td>0.3</td>\n",
       "      <td>2.3</td>\n",
       "      <td>225.0</td>\n",
       "      <td>NaN</td>\n",
       "      <td>0.2</td>\n",
       "      <td>20.1</td>\n",
       "      <td>26.0</td>\n",
       "      <td>1.0</td>\n",
       "      <td>121.038869</td>\n",
       "      <td>24.900097</td>\n",
       "      <td>22.0</td>\n",
       "    </tr>\n",
       "    <tr>\n",
       "      <th>1</th>\n",
       "      <td>2024-08-31 23:00</td>\n",
       "      <td>Zhongming</td>\n",
       "      <td>Taichung City</td>\n",
       "      <td>50.0</td>\n",
       "      <td>None</td>\n",
       "      <td>Good</td>\n",
       "      <td>1.6</td>\n",
       "      <td>0.32</td>\n",
       "      <td>27.9</td>\n",
       "      <td>35.1</td>\n",
       "      <td>27.0</td>\n",
       "      <td>14.0</td>\n",
       "      <td>7.6</td>\n",
       "      <td>9.3</td>\n",
       "      <td>1.6</td>\n",
       "      <td>1.1</td>\n",
       "      <td>184.0</td>\n",
       "      <td>NaN</td>\n",
       "      <td>0.2</td>\n",
       "      <td>15.3</td>\n",
       "      <td>23.0</td>\n",
       "      <td>1.0</td>\n",
       "      <td>120.641092</td>\n",
       "      <td>24.151958</td>\n",
       "      <td>31.0</td>\n",
       "    </tr>\n",
       "    <tr>\n",
       "      <th>2</th>\n",
       "      <td>2024-08-31 23:00</td>\n",
       "      <td>Zhudong</td>\n",
       "      <td>Hsinchu County</td>\n",
       "      <td>45.0</td>\n",
       "      <td>None</td>\n",
       "      <td>Good</td>\n",
       "      <td>0.4</td>\n",
       "      <td>0.17</td>\n",
       "      <td>25.1</td>\n",
       "      <td>40.6</td>\n",
       "      <td>21.0</td>\n",
       "      <td>13.0</td>\n",
       "      <td>2.9</td>\n",
       "      <td>4.1</td>\n",
       "      <td>1.1</td>\n",
       "      <td>0.4</td>\n",
       "      <td>210.0</td>\n",
       "      <td>NaN</td>\n",
       "      <td>0.2</td>\n",
       "      <td>13.8</td>\n",
       "      <td>24.0</td>\n",
       "      <td>0.0</td>\n",
       "      <td>121.088955</td>\n",
       "      <td>24.740914</td>\n",
       "      <td>23.0</td>\n",
       "    </tr>\n",
       "    <tr>\n",
       "      <th>3</th>\n",
       "      <td>2024-08-31 23:00</td>\n",
       "      <td>Hsinchu</td>\n",
       "      <td>Hsinchu City</td>\n",
       "      <td>42.0</td>\n",
       "      <td>None</td>\n",
       "      <td>Good</td>\n",
       "      <td>0.8</td>\n",
       "      <td>0.20</td>\n",
       "      <td>30.0</td>\n",
       "      <td>35.9</td>\n",
       "      <td>19.0</td>\n",
       "      <td>10.0</td>\n",
       "      <td>4.0</td>\n",
       "      <td>4.8</td>\n",
       "      <td>0.7</td>\n",
       "      <td>1.9</td>\n",
       "      <td>239.0</td>\n",
       "      <td>NaN</td>\n",
       "      <td>0.2</td>\n",
       "      <td>13.0</td>\n",
       "      <td>26.0</td>\n",
       "      <td>1.0</td>\n",
       "      <td>120.972368</td>\n",
       "      <td>24.805636</td>\n",
       "      <td>24.0</td>\n",
       "    </tr>\n",
       "    <tr>\n",
       "      <th>4</th>\n",
       "      <td>2024-08-31 23:00</td>\n",
       "      <td>Toufen</td>\n",
       "      <td>Miaoli County</td>\n",
       "      <td>50.0</td>\n",
       "      <td>None</td>\n",
       "      <td>Good</td>\n",
       "      <td>1.0</td>\n",
       "      <td>0.16</td>\n",
       "      <td>33.5</td>\n",
       "      <td>35.9</td>\n",
       "      <td>18.0</td>\n",
       "      <td>14.0</td>\n",
       "      <td>1.8</td>\n",
       "      <td>3.1</td>\n",
       "      <td>1.2</td>\n",
       "      <td>1.8</td>\n",
       "      <td>259.0</td>\n",
       "      <td>NaN</td>\n",
       "      <td>0.1</td>\n",
       "      <td>15.3</td>\n",
       "      <td>28.0</td>\n",
       "      <td>1.0</td>\n",
       "      <td>120.898693</td>\n",
       "      <td>24.696907</td>\n",
       "      <td>25.0</td>\n",
       "    </tr>\n",
       "  </tbody>\n",
       "</table>\n",
       "</div>"
      ],
      "text/plain": [
       "               date   sitename          county   aqi pollutant    status  so2  \\\n",
       "0  2024-08-31 23:00      Hukou  Hsinchu County  62.0     PM2.5  Moderate  0.9   \n",
       "1  2024-08-31 23:00  Zhongming   Taichung City  50.0      None      Good  1.6   \n",
       "2  2024-08-31 23:00    Zhudong  Hsinchu County  45.0      None      Good  0.4   \n",
       "3  2024-08-31 23:00    Hsinchu    Hsinchu City  42.0      None      Good  0.8   \n",
       "4  2024-08-31 23:00     Toufen   Miaoli County  50.0      None      Good  1.0   \n",
       "\n",
       "     co    o3  o3_8hr  pm10  pm2.5  no2  nox   no  windspeed  winddirec  unit  \\\n",
       "0  0.17  35.0    40.2  18.0   17.0  2.3  2.6  0.3        2.3      225.0   NaN   \n",
       "1  0.32  27.9    35.1  27.0   14.0  7.6  9.3  1.6        1.1      184.0   NaN   \n",
       "2  0.17  25.1    40.6  21.0   13.0  2.9  4.1  1.1        0.4      210.0   NaN   \n",
       "3  0.20  30.0    35.9  19.0   10.0  4.0  4.8  0.7        1.9      239.0   NaN   \n",
       "4  0.16  33.5    35.9  18.0   14.0  1.8  3.1  1.2        1.8      259.0   NaN   \n",
       "\n",
       "   co_8hr  pm2.5_avg  pm10_avg  so2_avg   longitude   latitude  siteid  \n",
       "0     0.2       20.1      26.0      1.0  121.038869  24.900097    22.0  \n",
       "1     0.2       15.3      23.0      1.0  120.641092  24.151958    31.0  \n",
       "2     0.2       13.8      24.0      0.0  121.088955  24.740914    23.0  \n",
       "3     0.2       13.0      26.0      1.0  120.972368  24.805636    24.0  \n",
       "4     0.1       15.3      28.0      1.0  120.898693  24.696907    25.0  "
      ]
     },
     "execution_count": 39,
     "metadata": {},
     "output_type": "execute_result"
    }
   ],
   "source": [
    "air_df.head()"
   ]
  },
  {
   "cell_type": "code",
   "execution_count": 40,
   "metadata": {},
   "outputs": [
    {
     "name": "stdout",
     "output_type": "stream",
     "text": [
      "<class 'pandas.core.frame.DataFrame'>\n",
      "Index: 5882208 entries, 0 to 5882207\n",
      "Data columns (total 25 columns):\n",
      " #   Column     Dtype  \n",
      "---  ------     -----  \n",
      " 0   date       object \n",
      " 1   sitename   object \n",
      " 2   county     object \n",
      " 3   aqi        float64\n",
      " 4   pollutant  object \n",
      " 5   status     object \n",
      " 6   so2        float64\n",
      " 7   co         float64\n",
      " 8   o3         float64\n",
      " 9   o3_8hr     float64\n",
      " 10  pm10       float64\n",
      " 11  pm2.5      float64\n",
      " 12  no2        float64\n",
      " 13  nox        float64\n",
      " 14  no         float64\n",
      " 15  windspeed  float64\n",
      " 16  winddirec  float64\n",
      " 17  unit       float64\n",
      " 18  co_8hr     float64\n",
      " 19  pm2.5_avg  float64\n",
      " 20  pm10_avg   float64\n",
      " 21  so2_avg    float64\n",
      " 22  longitude  float64\n",
      " 23  latitude   float64\n",
      " 24  siteid     float64\n",
      "dtypes: float64(20), object(5)\n",
      "memory usage: 1.1+ GB\n"
     ]
    }
   ],
   "source": [
    "air_df.info()"
   ]
  },
  {
   "cell_type": "code",
   "execution_count": 41,
   "metadata": {},
   "outputs": [
    {
     "data": {
      "text/plain": [
       "date         0.000000\n",
       "sitename     0.000000\n",
       "county       0.000000\n",
       "aqi          0.007314\n",
       "pollutant    0.549966\n",
       "status       0.024263\n",
       "so2          0.023765\n",
       "co           0.026203\n",
       "o3           0.035263\n",
       "o3_8hr       0.026121\n",
       "pm10         0.024932\n",
       "pm2.5        0.034379\n",
       "no2          0.028221\n",
       "nox          0.028756\n",
       "no           0.028812\n",
       "windspeed    0.051457\n",
       "winddirec    0.051498\n",
       "unit         1.000000\n",
       "co_8hr       0.017604\n",
       "pm2.5_avg    0.013594\n",
       "pm10_avg     0.016349\n",
       "so2_avg      0.106964\n",
       "longitude    0.158719\n",
       "latitude     0.158719\n",
       "siteid       0.302517\n",
       "dtype: float64"
      ]
     },
     "execution_count": 41,
     "metadata": {},
     "output_type": "execute_result"
    }
   ],
   "source": [
    "air_df.isnull().sum()/air_df.shape[0]"
   ]
  },
  {
   "cell_type": "markdown",
   "metadata": {},
   "source": [
    "### Dropando linhas vazias da coluna status (target)"
   ]
  },
  {
   "cell_type": "code",
   "execution_count": 42,
   "metadata": {},
   "outputs": [],
   "source": [
    "air_df.dropna(subset=['status'], inplace=True)"
   ]
  },
  {
   "cell_type": "code",
   "execution_count": 43,
   "metadata": {},
   "outputs": [
    {
     "data": {
      "text/plain": [
       "0.0"
      ]
     },
     "execution_count": 43,
     "metadata": {},
     "output_type": "execute_result"
    }
   ],
   "source": [
    "air_df['status'].isnull().sum()/air_df.shape[0]"
   ]
  },
  {
   "cell_type": "markdown",
   "metadata": {},
   "source": [
    "### Dropando colunas inúteis"
   ]
  },
  {
   "cell_type": "code",
   "execution_count": 44,
   "metadata": {},
   "outputs": [],
   "source": [
    "air_df.drop(labels=['unit', 'siteid'], axis=1, inplace=True)"
   ]
  },
  {
   "cell_type": "code",
   "execution_count": 45,
   "metadata": {},
   "outputs": [
    {
     "name": "stdout",
     "output_type": "stream",
     "text": [
      "<class 'pandas.core.frame.DataFrame'>\n",
      "Index: 5739490 entries, 0 to 5882207\n",
      "Data columns (total 23 columns):\n",
      " #   Column     Dtype  \n",
      "---  ------     -----  \n",
      " 0   date       object \n",
      " 1   sitename   object \n",
      " 2   county     object \n",
      " 3   aqi        float64\n",
      " 4   pollutant  object \n",
      " 5   status     object \n",
      " 6   so2        float64\n",
      " 7   co         float64\n",
      " 8   o3         float64\n",
      " 9   o3_8hr     float64\n",
      " 10  pm10       float64\n",
      " 11  pm2.5      float64\n",
      " 12  no2        float64\n",
      " 13  nox        float64\n",
      " 14  no         float64\n",
      " 15  windspeed  float64\n",
      " 16  winddirec  float64\n",
      " 17  co_8hr     float64\n",
      " 18  pm2.5_avg  float64\n",
      " 19  pm10_avg   float64\n",
      " 20  so2_avg    float64\n",
      " 21  longitude  float64\n",
      " 22  latitude   float64\n",
      "dtypes: float64(18), object(5)\n",
      "memory usage: 1.0+ GB\n"
     ]
    }
   ],
   "source": [
    "air_df.info()"
   ]
  },
  {
   "cell_type": "markdown",
   "metadata": {},
   "source": [
    "### Tratando coluna date"
   ]
  },
  {
   "cell_type": "code",
   "execution_count": 46,
   "metadata": {},
   "outputs": [
    {
     "name": "stdout",
     "output_type": "stream",
     "text": [
      "<class 'pandas.core.frame.DataFrame'>\n",
      "Index: 5739490 entries, 0 to 5882207\n",
      "Data columns (total 23 columns):\n",
      " #   Column     Dtype  \n",
      "---  ------     -----  \n",
      " 0   date       object \n",
      " 1   sitename   object \n",
      " 2   county     object \n",
      " 3   aqi        float64\n",
      " 4   pollutant  object \n",
      " 5   status     object \n",
      " 6   so2        float64\n",
      " 7   co         float64\n",
      " 8   o3         float64\n",
      " 9   o3_8hr     float64\n",
      " 10  pm10       float64\n",
      " 11  pm2.5      float64\n",
      " 12  no2        float64\n",
      " 13  nox        float64\n",
      " 14  no         float64\n",
      " 15  windspeed  float64\n",
      " 16  winddirec  float64\n",
      " 17  co_8hr     float64\n",
      " 18  pm2.5_avg  float64\n",
      " 19  pm10_avg   float64\n",
      " 20  so2_avg    float64\n",
      " 21  longitude  float64\n",
      " 22  latitude   float64\n",
      "dtypes: float64(18), object(5)\n",
      "memory usage: 1.0+ GB\n"
     ]
    }
   ],
   "source": [
    "air_df.info()"
   ]
  },
  {
   "cell_type": "code",
   "execution_count": 47,
   "metadata": {},
   "outputs": [],
   "source": [
    "# air_df['date'] = pd.to_datetime(air_df['date'], format=\"%Y-%m-%d %H:%M\", errors='coerce')\n",
    "air_df['date'] = pd.to_datetime(air_df['date'], errors='coerce')"
   ]
  },
  {
   "cell_type": "code",
   "execution_count": 48,
   "metadata": {},
   "outputs": [
    {
     "data": {
      "text/plain": [
       "date              85\n",
       "sitename           0\n",
       "county             0\n",
       "aqi              590\n",
       "pollutant    3185191\n",
       "status             0\n",
       "so2           110645\n",
       "co            125200\n",
       "o3            175551\n",
       "o3_8hr        117588\n",
       "pm10          113305\n",
       "pm2.5         167820\n",
       "no2           135602\n",
       "nox           136178\n",
       "no            136513\n",
       "windspeed     271909\n",
       "winddirec     272164\n",
       "co_8hr         71235\n",
       "pm2.5_avg      39784\n",
       "pm10_avg       55207\n",
       "so2_avg       512074\n",
       "longitude     826019\n",
       "latitude      826019\n",
       "dtype: int64"
      ]
     },
     "execution_count": 48,
     "metadata": {},
     "output_type": "execute_result"
    }
   ],
   "source": [
    "air_df.isnull().sum()"
   ]
  },
  {
   "cell_type": "code",
   "execution_count": 49,
   "metadata": {},
   "outputs": [],
   "source": [
    "air_df.dropna(subset=['date'], inplace=True)"
   ]
  },
  {
   "cell_type": "code",
   "execution_count": 50,
   "metadata": {},
   "outputs": [
    {
     "data": {
      "text/plain": [
       "0.0"
      ]
     },
     "execution_count": 50,
     "metadata": {},
     "output_type": "execute_result"
    }
   ],
   "source": [
    "air_df['date'].isnull().sum()/air_df.shape[0]"
   ]
  },
  {
   "cell_type": "markdown",
   "metadata": {},
   "source": [
    "Talvez não seja correto fazer alguma aglomeração nessa coluna, pois o target não é numérico. Não teria uma forma \"exata\" de fazer a soma e média das classes."
   ]
  },
  {
   "cell_type": "markdown",
   "metadata": {},
   "source": [
    "### Verificando importância da coluna pollutant e se ela pode ser descartada"
   ]
  },
  {
   "cell_type": "code",
   "execution_count": 51,
   "metadata": {},
   "outputs": [
    {
     "data": {
      "text/plain": [
       "0.5549577003191097"
      ]
     },
     "execution_count": 51,
     "metadata": {},
     "output_type": "execute_result"
    }
   ],
   "source": [
    "air_df['pollutant'].isnull().sum()/air_df.shape[0]"
   ]
  },
  {
   "cell_type": "code",
   "execution_count": 54,
   "metadata": {},
   "outputs": [
    {
     "data": {
      "text/plain": [
       "pollutant\n",
       "PM2.5                     2213287\n",
       "Ozone (8hr)                242678\n",
       "PM10                        73819\n",
       "Nitrogen Dioxide (NO2)      23948\n",
       "Sulfur Dioxide (SO2)          472\n",
       "Ozone                          72\n",
       "Carbon Monoxide (CO)            2\n",
       "Name: count, dtype: int64"
      ]
     },
     "execution_count": 54,
     "metadata": {},
     "output_type": "execute_result"
    }
   ],
   "source": [
    "air_df['pollutant'].value_counts()"
   ]
  },
  {
   "cell_type": "markdown",
   "metadata": {},
   "source": [
    "Descrição no dicionário de dados - Main pollutant\n",
    "Acho que pode ser dropada, me parece apenas uma info complementar e ela de 55% de valores nulos"
   ]
  },
  {
   "cell_type": "code",
   "execution_count": 58,
   "metadata": {},
   "outputs": [],
   "source": [
    "air_df.drop(labels=['pollutant'], axis=1, inplace=True)"
   ]
  },
  {
   "cell_type": "code",
   "execution_count": 59,
   "metadata": {},
   "outputs": [
    {
     "name": "stdout",
     "output_type": "stream",
     "text": [
      "<class 'pandas.core.frame.DataFrame'>\n",
      "Index: 5739405 entries, 0 to 5882207\n",
      "Data columns (total 22 columns):\n",
      " #   Column     Dtype         \n",
      "---  ------     -----         \n",
      " 0   date       datetime64[ns]\n",
      " 1   sitename   object        \n",
      " 2   county     object        \n",
      " 3   aqi        float64       \n",
      " 4   status     object        \n",
      " 5   so2        float64       \n",
      " 6   co         float64       \n",
      " 7   o3         float64       \n",
      " 8   o3_8hr     float64       \n",
      " 9   pm10       float64       \n",
      " 10  pm2.5      float64       \n",
      " 11  no2        float64       \n",
      " 12  nox        float64       \n",
      " 13  no         float64       \n",
      " 14  windspeed  float64       \n",
      " 15  winddirec  float64       \n",
      " 16  co_8hr     float64       \n",
      " 17  pm2.5_avg  float64       \n",
      " 18  pm10_avg   float64       \n",
      " 19  so2_avg    float64       \n",
      " 20  longitude  float64       \n",
      " 21  latitude   float64       \n",
      "dtypes: datetime64[ns](1), float64(18), object(3)\n",
      "memory usage: 1007.1+ MB\n"
     ]
    }
   ],
   "source": [
    "air_df.info()"
   ]
  },
  {
   "cell_type": "code",
   "execution_count": 60,
   "metadata": {},
   "outputs": [
    {
     "data": {
      "text/plain": [
       "county\n",
       "New Taipei City      886272\n",
       "Kaohsiung City       853539\n",
       "Taipei City          496109\n",
       "Taoyuan City         440625\n",
       "Taichung City        359168\n",
       "Tainan City          355516\n",
       "Pingtung County      295781\n",
       "Changhua County      286175\n",
       "Yunlin County        275834\n",
       "Miaoli County        215703\n",
       "Nantou County        208559\n",
       "Yilan County         145880\n",
       "Taitung County       142378\n",
       "Hsinchu County       141435\n",
       "Chiayi County        139738\n",
       "Hsinchu City          74775\n",
       "Hualien County        71530\n",
       "Penghu County         71044\n",
       "Keelung City          70979\n",
       "Lienchiang County     69817\n",
       "Kinmen County         69383\n",
       "Chiayi City           69165\n",
       "Name: count, dtype: int64"
      ]
     },
     "execution_count": 60,
     "metadata": {},
     "output_type": "execute_result"
    }
   ],
   "source": [
    "air_df['county'].value_counts()"
   ]
  },
  {
   "cell_type": "code",
   "execution_count": null,
   "metadata": {},
   "outputs": [],
   "source": []
  }
 ],
 "metadata": {
  "kernelspec": {
   "display_name": "ml-project",
   "language": "python",
   "name": "python3"
  },
  "language_info": {
   "codemirror_mode": {
    "name": "ipython",
    "version": 3
   },
   "file_extension": ".py",
   "mimetype": "text/x-python",
   "name": "python",
   "nbconvert_exporter": "python",
   "pygments_lexer": "ipython3",
   "version": "3.12.5"
  }
 },
 "nbformat": 4,
 "nbformat_minor": 2
}
